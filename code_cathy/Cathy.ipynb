{
 "cells": [
  {
   "cell_type": "code",
   "execution_count": 2,
   "metadata": {},
   "outputs": [],
   "source": [
    "# Import dependencies\n",
    "import pandas as pd\n",
    "from sqlalchemy import create_engine"
   ]
  },
  {
   "cell_type": "code",
   "execution_count": 3,
   "metadata": {},
   "outputs": [
    {
     "data": {
      "text/html": "<div>\n<style scoped>\n    .dataframe tbody tr th:only-of-type {\n        vertical-align: middle;\n    }\n\n    .dataframe tbody tr th {\n        vertical-align: top;\n    }\n\n    .dataframe thead th {\n        text-align: right;\n    }\n</style>\n<table border=\"1\" class=\"dataframe\">\n  <thead>\n    <tr style=\"text-align: right;\">\n      <th></th>\n      <th>Domain Code</th>\n      <th>Domain</th>\n      <th>Area Code</th>\n      <th>Area</th>\n      <th>Element Code</th>\n      <th>Element</th>\n      <th>Item Code</th>\n      <th>Item</th>\n      <th>Year Code</th>\n      <th>Year</th>\n      <th>Unit</th>\n      <th>Value</th>\n      <th>Flag</th>\n      <th>Flag Description</th>\n    </tr>\n  </thead>\n  <tbody>\n    <tr>\n      <th>0</th>\n      <td>SCL</td>\n      <td>Supply Utilization Accounts</td>\n      <td>2</td>\n      <td>Afghanistan</td>\n      <td>5610</td>\n      <td>Import Quantity</td>\n      <td>661</td>\n      <td>Cocoa, beans</td>\n      <td>2014</td>\n      <td>2014</td>\n      <td>tonnes</td>\n      <td>508</td>\n      <td>X</td>\n      <td>International reliable sources</td>\n    </tr>\n    <tr>\n      <th>1</th>\n      <td>SCL</td>\n      <td>Supply Utilization Accounts</td>\n      <td>2</td>\n      <td>Afghanistan</td>\n      <td>5610</td>\n      <td>Import Quantity</td>\n      <td>661</td>\n      <td>Cocoa, beans</td>\n      <td>2017</td>\n      <td>2017</td>\n      <td>tonnes</td>\n      <td>1</td>\n      <td>X</td>\n      <td>International reliable sources</td>\n    </tr>\n    <tr>\n      <th>7</th>\n      <td>SCL</td>\n      <td>Supply Utilization Accounts</td>\n      <td>2</td>\n      <td>Afghanistan</td>\n      <td>5141</td>\n      <td>Food supply quantity (tonnes)</td>\n      <td>661</td>\n      <td>Cocoa, beans</td>\n      <td>2014</td>\n      <td>2014</td>\n      <td>tonnes</td>\n      <td>508</td>\n      <td>F</td>\n      <td>FAO estimate</td>\n    </tr>\n    <tr>\n      <th>8</th>\n      <td>SCL</td>\n      <td>Supply Utilization Accounts</td>\n      <td>2</td>\n      <td>Afghanistan</td>\n      <td>5141</td>\n      <td>Food supply quantity (tonnes)</td>\n      <td>661</td>\n      <td>Cocoa, beans</td>\n      <td>2017</td>\n      <td>2017</td>\n      <td>tonnes</td>\n      <td>1</td>\n      <td>F</td>\n      <td>FAO estimate</td>\n    </tr>\n    <tr>\n      <th>16</th>\n      <td>SCL</td>\n      <td>Supply Utilization Accounts</td>\n      <td>4</td>\n      <td>Algeria</td>\n      <td>5113</td>\n      <td>Opening stocks</td>\n      <td>661</td>\n      <td>Cocoa, beans</td>\n      <td>2014</td>\n      <td>2014</td>\n      <td>tonnes</td>\n      <td>1457</td>\n      <td>Im</td>\n      <td>FAO data based on imputation methodology</td>\n    </tr>\n    <tr>\n      <th>...</th>\n      <td>...</td>\n      <td>...</td>\n      <td>...</td>\n      <td>...</td>\n      <td>...</td>\n      <td>...</td>\n      <td>...</td>\n      <td>...</td>\n      <td>...</td>\n      <td>...</td>\n      <td>...</td>\n      <td>...</td>\n      <td>...</td>\n      <td>...</td>\n    </tr>\n    <tr>\n      <th>5198</th>\n      <td>SCL</td>\n      <td>Supply Utilization Accounts</td>\n      <td>181</td>\n      <td>Zimbabwe</td>\n      <td>5113</td>\n      <td>Opening stocks</td>\n      <td>661</td>\n      <td>Cocoa, beans</td>\n      <td>2016</td>\n      <td>2016</td>\n      <td>tonnes</td>\n      <td>1</td>\n      <td>Im</td>\n      <td>FAO data based on imputation methodology</td>\n    </tr>\n    <tr>\n      <th>5199</th>\n      <td>SCL</td>\n      <td>Supply Utilization Accounts</td>\n      <td>181</td>\n      <td>Zimbabwe</td>\n      <td>5113</td>\n      <td>Opening stocks</td>\n      <td>661</td>\n      <td>Cocoa, beans</td>\n      <td>2017</td>\n      <td>2017</td>\n      <td>tonnes</td>\n      <td>1</td>\n      <td>Im</td>\n      <td>FAO data based on imputation methodology</td>\n    </tr>\n    <tr>\n      <th>5200</th>\n      <td>SCL</td>\n      <td>Supply Utilization Accounts</td>\n      <td>181</td>\n      <td>Zimbabwe</td>\n      <td>5113</td>\n      <td>Opening stocks</td>\n      <td>661</td>\n      <td>Cocoa, beans</td>\n      <td>2018</td>\n      <td>2018</td>\n      <td>tonnes</td>\n      <td>1</td>\n      <td>Im</td>\n      <td>FAO data based on imputation methodology</td>\n    </tr>\n    <tr>\n      <th>5201</th>\n      <td>SCL</td>\n      <td>Supply Utilization Accounts</td>\n      <td>181</td>\n      <td>Zimbabwe</td>\n      <td>5610</td>\n      <td>Import Quantity</td>\n      <td>661</td>\n      <td>Cocoa, beans</td>\n      <td>2015</td>\n      <td>2015</td>\n      <td>tonnes</td>\n      <td>14</td>\n      <td>NaN</td>\n      <td>Official data</td>\n    </tr>\n    <tr>\n      <th>5210</th>\n      <td>SCL</td>\n      <td>Supply Utilization Accounts</td>\n      <td>181</td>\n      <td>Zimbabwe</td>\n      <td>5023</td>\n      <td>Processed</td>\n      <td>661</td>\n      <td>Cocoa, beans</td>\n      <td>2015</td>\n      <td>2015</td>\n      <td>tonnes</td>\n      <td>14</td>\n      <td>Im</td>\n      <td>FAO data based on imputation methodology</td>\n    </tr>\n  </tbody>\n</table>\n<p>2919 rows × 14 columns</p>\n</div>",
      "text/plain": "     Domain Code                       Domain  Area Code         Area  \\\n0            SCL  Supply Utilization Accounts          2  Afghanistan   \n1            SCL  Supply Utilization Accounts          2  Afghanistan   \n7            SCL  Supply Utilization Accounts          2  Afghanistan   \n8            SCL  Supply Utilization Accounts          2  Afghanistan   \n16           SCL  Supply Utilization Accounts          4      Algeria   \n...          ...                          ...        ...          ...   \n5198         SCL  Supply Utilization Accounts        181     Zimbabwe   \n5199         SCL  Supply Utilization Accounts        181     Zimbabwe   \n5200         SCL  Supply Utilization Accounts        181     Zimbabwe   \n5201         SCL  Supply Utilization Accounts        181     Zimbabwe   \n5210         SCL  Supply Utilization Accounts        181     Zimbabwe   \n\n      Element Code                        Element  Item Code          Item  \\\n0             5610                Import Quantity        661  Cocoa, beans   \n1             5610                Import Quantity        661  Cocoa, beans   \n7             5141  Food supply quantity (tonnes)        661  Cocoa, beans   \n8             5141  Food supply quantity (tonnes)        661  Cocoa, beans   \n16            5113                 Opening stocks        661  Cocoa, beans   \n...            ...                            ...        ...           ...   \n5198          5113                 Opening stocks        661  Cocoa, beans   \n5199          5113                 Opening stocks        661  Cocoa, beans   \n5200          5113                 Opening stocks        661  Cocoa, beans   \n5201          5610                Import Quantity        661  Cocoa, beans   \n5210          5023                      Processed        661  Cocoa, beans   \n\n      Year Code  Year    Unit  Value Flag  \\\n0          2014  2014  tonnes    508    X   \n1          2017  2017  tonnes      1    X   \n7          2014  2014  tonnes    508    F   \n8          2017  2017  tonnes      1    F   \n16         2014  2014  tonnes   1457   Im   \n...         ...   ...     ...    ...  ...   \n5198       2016  2016  tonnes      1   Im   \n5199       2017  2017  tonnes      1   Im   \n5200       2018  2018  tonnes      1   Im   \n5201       2015  2015  tonnes     14  NaN   \n5210       2015  2015  tonnes     14   Im   \n\n                              Flag Description  \n0               International reliable sources  \n1               International reliable sources  \n7                                 FAO estimate  \n8                                 FAO estimate  \n16    FAO data based on imputation methodology  \n...                                        ...  \n5198  FAO data based on imputation methodology  \n5199  FAO data based on imputation methodology  \n5200  FAO data based on imputation methodology  \n5201                             Official data  \n5210  FAO data based on imputation methodology  \n\n[2919 rows x 14 columns]"
     },
     "execution_count": 3,
     "metadata": {},
     "output_type": "execute_result"
    }
   ],
   "source": [
    "# Import utilisation csv file\n",
    "util_csv = \"../Resources/supply_utilisation.csv\"\n",
    "util_df = pd.read_csv(util_csv)\n",
    "util_df = util_df[util_df['Value'] !=0]\n",
    "util_df"
   ]
  },
  {
   "cell_type": "code",
   "execution_count": 4,
   "metadata": {},
   "outputs": [
    {
     "data": {
      "text/html": "<div>\n<style scoped>\n    .dataframe tbody tr th:only-of-type {\n        vertical-align: middle;\n    }\n\n    .dataframe tbody tr th {\n        vertical-align: top;\n    }\n\n    .dataframe thead th {\n        text-align: right;\n    }\n</style>\n<table border=\"1\" class=\"dataframe\">\n  <thead>\n    <tr style=\"text-align: right;\">\n      <th></th>\n      <th>Unnamed: 0</th>\n      <th>ref</th>\n      <th>company</th>\n      <th>company_location</th>\n      <th>review_date</th>\n      <th>country_of_bean_origin</th>\n      <th>specific_bean_origin_or_bar_name</th>\n      <th>cocoa_percent</th>\n      <th>rating</th>\n      <th>counts_of_ingredients</th>\n      <th>...</th>\n      <th>cocoa_butter</th>\n      <th>vanilla</th>\n      <th>lecithin</th>\n      <th>salt</th>\n      <th>sugar</th>\n      <th>sweetener_without_sugar</th>\n      <th>first_taste</th>\n      <th>second_taste</th>\n      <th>third_taste</th>\n      <th>fourth_taste</th>\n    </tr>\n  </thead>\n  <tbody>\n    <tr>\n      <th>0</th>\n      <td>0</td>\n      <td>2454</td>\n      <td>5150</td>\n      <td>U.S.A</td>\n      <td>2019</td>\n      <td>Madagascar</td>\n      <td>Bejofo Estate, batch 1</td>\n      <td>76.0</td>\n      <td>3.75</td>\n      <td>3</td>\n      <td>...</td>\n      <td>have_cocoa_butter</td>\n      <td>have_not_vanila</td>\n      <td>have_not_lecithin</td>\n      <td>have_not_salt</td>\n      <td>have_sugar</td>\n      <td>have_not_sweetener_without_sugar</td>\n      <td>cocoa</td>\n      <td>blackberry</td>\n      <td>full body</td>\n      <td>NaN</td>\n    </tr>\n    <tr>\n      <th>1</th>\n      <td>1</td>\n      <td>2458</td>\n      <td>5150</td>\n      <td>U.S.A</td>\n      <td>2019</td>\n      <td>Dominican republic</td>\n      <td>Zorzal, batch 1</td>\n      <td>76.0</td>\n      <td>3.50</td>\n      <td>3</td>\n      <td>...</td>\n      <td>have_cocoa_butter</td>\n      <td>have_not_vanila</td>\n      <td>have_not_lecithin</td>\n      <td>have_not_salt</td>\n      <td>have_sugar</td>\n      <td>have_not_sweetener_without_sugar</td>\n      <td>cocoa</td>\n      <td>vegetal</td>\n      <td>savory</td>\n      <td>NaN</td>\n    </tr>\n  </tbody>\n</table>\n<p>2 rows × 21 columns</p>\n</div>",
      "text/plain": "   Unnamed: 0   ref company company_location  review_date  \\\n0           0  2454    5150            U.S.A         2019   \n1           1  2458    5150            U.S.A         2019   \n\n  country_of_bean_origin specific_bean_origin_or_bar_name  cocoa_percent  \\\n0             Madagascar           Bejofo Estate, batch 1           76.0   \n1     Dominican republic                  Zorzal, batch 1           76.0   \n\n   rating  counts_of_ingredients  ...       cocoa_butter          vanilla  \\\n0    3.75                      3  ...  have_cocoa_butter  have_not_vanila   \n1    3.50                      3  ...  have_cocoa_butter  have_not_vanila   \n\n            lecithin           salt       sugar  \\\n0  have_not_lecithin  have_not_salt  have_sugar   \n1  have_not_lecithin  have_not_salt  have_sugar   \n\n            sweetener_without_sugar first_taste second_taste third_taste  \\\n0  have_not_sweetener_without_sugar       cocoa   blackberry   full body   \n1  have_not_sweetener_without_sugar       cocoa      vegetal      savory   \n\n  fourth_taste  \n0          NaN  \n1          NaN  \n\n[2 rows x 21 columns]"
     },
     "execution_count": 4,
     "metadata": {},
     "output_type": "execute_result"
    }
   ],
   "source": [
    "# Import Ratings csv file\n",
    "rating_csv = \"../Resources/chocolate_rating.csv\"\n",
    "rating_df = pd.read_csv(rating_csv)\n",
    "rating_df.head(2)"
   ]
  },
  {
   "cell_type": "code",
   "execution_count": 5,
   "metadata": {},
   "outputs": [
    {
     "data": {
      "text/html": "<div>\n<style scoped>\n    .dataframe tbody tr th:only-of-type {\n        vertical-align: middle;\n    }\n\n    .dataframe tbody tr th {\n        vertical-align: top;\n    }\n\n    .dataframe thead th {\n        text-align: right;\n    }\n</style>\n<table border=\"1\" class=\"dataframe\">\n  <thead>\n    <tr style=\"text-align: right;\">\n      <th></th>\n      <th>Domain Code</th>\n      <th>Domain</th>\n      <th>Area Code</th>\n      <th>Area</th>\n      <th>Element Code</th>\n      <th>Element</th>\n      <th>Item Code</th>\n      <th>Item</th>\n      <th>Year Code</th>\n      <th>Year</th>\n      <th>Unit</th>\n      <th>Value</th>\n      <th>Flag</th>\n      <th>Flag Description</th>\n    </tr>\n  </thead>\n  <tbody>\n    <tr>\n      <th>7</th>\n      <td>SCL</td>\n      <td>Supply Utilization Accounts</td>\n      <td>2</td>\n      <td>Afghanistan</td>\n      <td>5141</td>\n      <td>Food supply quantity (tonnes)</td>\n      <td>661</td>\n      <td>Cocoa, beans</td>\n      <td>2014</td>\n      <td>2014</td>\n      <td>tonnes</td>\n      <td>508</td>\n      <td>F</td>\n      <td>FAO estimate</td>\n    </tr>\n    <tr>\n      <th>8</th>\n      <td>SCL</td>\n      <td>Supply Utilization Accounts</td>\n      <td>2</td>\n      <td>Afghanistan</td>\n      <td>5141</td>\n      <td>Food supply quantity (tonnes)</td>\n      <td>661</td>\n      <td>Cocoa, beans</td>\n      <td>2017</td>\n      <td>2017</td>\n      <td>tonnes</td>\n      <td>1</td>\n      <td>F</td>\n      <td>FAO estimate</td>\n    </tr>\n    <tr>\n      <th>142</th>\n      <td>SCL</td>\n      <td>Supply Utilization Accounts</td>\n      <td>1</td>\n      <td>Armenia</td>\n      <td>5141</td>\n      <td>Food supply quantity (tonnes)</td>\n      <td>661</td>\n      <td>Cocoa, beans</td>\n      <td>2015</td>\n      <td>2015</td>\n      <td>tonnes</td>\n      <td>886</td>\n      <td>F</td>\n      <td>FAO estimate</td>\n    </tr>\n    <tr>\n      <th>143</th>\n      <td>SCL</td>\n      <td>Supply Utilization Accounts</td>\n      <td>1</td>\n      <td>Armenia</td>\n      <td>5141</td>\n      <td>Food supply quantity (tonnes)</td>\n      <td>661</td>\n      <td>Cocoa, beans</td>\n      <td>2016</td>\n      <td>2016</td>\n      <td>tonnes</td>\n      <td>812</td>\n      <td>F</td>\n      <td>FAO estimate</td>\n    </tr>\n    <tr>\n      <th>144</th>\n      <td>SCL</td>\n      <td>Supply Utilization Accounts</td>\n      <td>1</td>\n      <td>Armenia</td>\n      <td>5141</td>\n      <td>Food supply quantity (tonnes)</td>\n      <td>661</td>\n      <td>Cocoa, beans</td>\n      <td>2017</td>\n      <td>2017</td>\n      <td>tonnes</td>\n      <td>898</td>\n      <td>F</td>\n      <td>FAO estimate</td>\n    </tr>\n    <tr>\n      <th>...</th>\n      <td>...</td>\n      <td>...</td>\n      <td>...</td>\n      <td>...</td>\n      <td>...</td>\n      <td>...</td>\n      <td>...</td>\n      <td>...</td>\n      <td>...</td>\n      <td>...</td>\n      <td>...</td>\n      <td>...</td>\n      <td>...</td>\n      <td>...</td>\n    </tr>\n    <tr>\n      <th>5049</th>\n      <td>SCL</td>\n      <td>Supply Utilization Accounts</td>\n      <td>235</td>\n      <td>Uzbekistan</td>\n      <td>5141</td>\n      <td>Food supply quantity (tonnes)</td>\n      <td>661</td>\n      <td>Cocoa, beans</td>\n      <td>2018</td>\n      <td>2018</td>\n      <td>tonnes</td>\n      <td>2</td>\n      <td>F</td>\n      <td>FAO estimate</td>\n    </tr>\n    <tr>\n      <th>5082</th>\n      <td>SCL</td>\n      <td>Supply Utilization Accounts</td>\n      <td>155</td>\n      <td>Vanuatu</td>\n      <td>5141</td>\n      <td>Food supply quantity (tonnes)</td>\n      <td>661</td>\n      <td>Cocoa, beans</td>\n      <td>2014</td>\n      <td>2014</td>\n      <td>tonnes</td>\n      <td>133</td>\n      <td>F</td>\n      <td>FAO estimate</td>\n    </tr>\n    <tr>\n      <th>5083</th>\n      <td>SCL</td>\n      <td>Supply Utilization Accounts</td>\n      <td>155</td>\n      <td>Vanuatu</td>\n      <td>5141</td>\n      <td>Food supply quantity (tonnes)</td>\n      <td>661</td>\n      <td>Cocoa, beans</td>\n      <td>2015</td>\n      <td>2015</td>\n      <td>tonnes</td>\n      <td>429</td>\n      <td>F</td>\n      <td>FAO estimate</td>\n    </tr>\n    <tr>\n      <th>5084</th>\n      <td>SCL</td>\n      <td>Supply Utilization Accounts</td>\n      <td>155</td>\n      <td>Vanuatu</td>\n      <td>5141</td>\n      <td>Food supply quantity (tonnes)</td>\n      <td>661</td>\n      <td>Cocoa, beans</td>\n      <td>2016</td>\n      <td>2016</td>\n      <td>tonnes</td>\n      <td>200</td>\n      <td>F</td>\n      <td>FAO estimate</td>\n    </tr>\n    <tr>\n      <th>5085</th>\n      <td>SCL</td>\n      <td>Supply Utilization Accounts</td>\n      <td>155</td>\n      <td>Vanuatu</td>\n      <td>5141</td>\n      <td>Food supply quantity (tonnes)</td>\n      <td>661</td>\n      <td>Cocoa, beans</td>\n      <td>2018</td>\n      <td>2018</td>\n      <td>tonnes</td>\n      <td>399</td>\n      <td>F</td>\n      <td>FAO estimate</td>\n    </tr>\n  </tbody>\n</table>\n<p>115 rows × 14 columns</p>\n</div>",
      "text/plain": "     Domain Code                       Domain  Area Code         Area  \\\n7            SCL  Supply Utilization Accounts          2  Afghanistan   \n8            SCL  Supply Utilization Accounts          2  Afghanistan   \n142          SCL  Supply Utilization Accounts          1      Armenia   \n143          SCL  Supply Utilization Accounts          1      Armenia   \n144          SCL  Supply Utilization Accounts          1      Armenia   \n...          ...                          ...        ...          ...   \n5049         SCL  Supply Utilization Accounts        235   Uzbekistan   \n5082         SCL  Supply Utilization Accounts        155      Vanuatu   \n5083         SCL  Supply Utilization Accounts        155      Vanuatu   \n5084         SCL  Supply Utilization Accounts        155      Vanuatu   \n5085         SCL  Supply Utilization Accounts        155      Vanuatu   \n\n      Element Code                        Element  Item Code          Item  \\\n7             5141  Food supply quantity (tonnes)        661  Cocoa, beans   \n8             5141  Food supply quantity (tonnes)        661  Cocoa, beans   \n142           5141  Food supply quantity (tonnes)        661  Cocoa, beans   \n143           5141  Food supply quantity (tonnes)        661  Cocoa, beans   \n144           5141  Food supply quantity (tonnes)        661  Cocoa, beans   \n...            ...                            ...        ...           ...   \n5049          5141  Food supply quantity (tonnes)        661  Cocoa, beans   \n5082          5141  Food supply quantity (tonnes)        661  Cocoa, beans   \n5083          5141  Food supply quantity (tonnes)        661  Cocoa, beans   \n5084          5141  Food supply quantity (tonnes)        661  Cocoa, beans   \n5085          5141  Food supply quantity (tonnes)        661  Cocoa, beans   \n\n      Year Code  Year    Unit  Value Flag Flag Description  \n7          2014  2014  tonnes    508    F     FAO estimate  \n8          2017  2017  tonnes      1    F     FAO estimate  \n142        2015  2015  tonnes    886    F     FAO estimate  \n143        2016  2016  tonnes    812    F     FAO estimate  \n144        2017  2017  tonnes    898    F     FAO estimate  \n...         ...   ...     ...    ...  ...              ...  \n5049       2018  2018  tonnes      2    F     FAO estimate  \n5082       2014  2014  tonnes    133    F     FAO estimate  \n5083       2015  2015  tonnes    429    F     FAO estimate  \n5084       2016  2016  tonnes    200    F     FAO estimate  \n5085       2018  2018  tonnes    399    F     FAO estimate  \n\n[115 rows x 14 columns]"
     },
     "execution_count": 5,
     "metadata": {},
     "output_type": "execute_result"
    }
   ],
   "source": [
    "df = util_df[util_df['Element'] == 'Food supply quantity (tonnes)']\n",
    "df"
   ]
  },
  {
   "cell_type": "code",
   "execution_count": 6,
   "metadata": {},
   "outputs": [
    {
     "data": {
      "text/html": "<div>\n<style scoped>\n    .dataframe tbody tr th:only-of-type {\n        vertical-align: middle;\n    }\n\n    .dataframe tbody tr th {\n        vertical-align: top;\n    }\n\n    .dataframe thead th {\n        text-align: right;\n    }\n</style>\n<table border=\"1\" class=\"dataframe\">\n  <thead>\n    <tr style=\"text-align: right;\">\n      <th></th>\n      <th>Area</th>\n      <th>Element</th>\n      <th>Year</th>\n      <th>Unit</th>\n      <th>Value</th>\n    </tr>\n  </thead>\n  <tbody>\n    <tr>\n      <th>2615</th>\n      <td>Kuwait</td>\n      <td>Food supply quantity (tonnes)</td>\n      <td>2018</td>\n      <td>tonnes</td>\n      <td>2</td>\n    </tr>\n    <tr>\n      <th>771</th>\n      <td>Cameroon</td>\n      <td>Food supply quantity (tonnes)</td>\n      <td>2018</td>\n      <td>tonnes</td>\n      <td>9533</td>\n    </tr>\n    <tr>\n      <th>1088</th>\n      <td>Comoros</td>\n      <td>Food supply quantity (tonnes)</td>\n      <td>2018</td>\n      <td>tonnes</td>\n      <td>13</td>\n    </tr>\n    <tr>\n      <th>1407</th>\n      <td>Dominica</td>\n      <td>Food supply quantity (tonnes)</td>\n      <td>2018</td>\n      <td>tonnes</td>\n      <td>50</td>\n    </tr>\n    <tr>\n      <th>1979</th>\n      <td>Grenada</td>\n      <td>Food supply quantity (tonnes)</td>\n      <td>2018</td>\n      <td>tonnes</td>\n      <td>200</td>\n    </tr>\n    <tr>\n      <th>...</th>\n      <td>...</td>\n      <td>...</td>\n      <td>...</td>\n      <td>...</td>\n      <td>...</td>\n    </tr>\n    <tr>\n      <th>2373</th>\n      <td>Ireland</td>\n      <td>Food supply quantity (tonnes)</td>\n      <td>2014</td>\n      <td>tonnes</td>\n      <td>4</td>\n    </tr>\n    <tr>\n      <th>3999</th>\n      <td>Saint Lucia</td>\n      <td>Food supply quantity (tonnes)</td>\n      <td>2014</td>\n      <td>tonnes</td>\n      <td>40</td>\n    </tr>\n    <tr>\n      <th>3623</th>\n      <td>Papua New Guinea</td>\n      <td>Food supply quantity (tonnes)</td>\n      <td>2014</td>\n      <td>tonnes</td>\n      <td>4001</td>\n    </tr>\n    <tr>\n      <th>3393</th>\n      <td>Niger</td>\n      <td>Food supply quantity (tonnes)</td>\n      <td>2014</td>\n      <td>tonnes</td>\n      <td>3</td>\n    </tr>\n    <tr>\n      <th>7</th>\n      <td>Afghanistan</td>\n      <td>Food supply quantity (tonnes)</td>\n      <td>2014</td>\n      <td>tonnes</td>\n      <td>508</td>\n    </tr>\n  </tbody>\n</table>\n<p>115 rows × 5 columns</p>\n</div>",
      "text/plain": "                  Area                        Element  Year    Unit  Value\n2615            Kuwait  Food supply quantity (tonnes)  2018  tonnes      2\n771           Cameroon  Food supply quantity (tonnes)  2018  tonnes   9533\n1088           Comoros  Food supply quantity (tonnes)  2018  tonnes     13\n1407          Dominica  Food supply quantity (tonnes)  2018  tonnes     50\n1979           Grenada  Food supply quantity (tonnes)  2018  tonnes    200\n...                ...                            ...   ...     ...    ...\n2373           Ireland  Food supply quantity (tonnes)  2014  tonnes      4\n3999       Saint Lucia  Food supply quantity (tonnes)  2014  tonnes     40\n3623  Papua New Guinea  Food supply quantity (tonnes)  2014  tonnes   4001\n3393             Niger  Food supply quantity (tonnes)  2014  tonnes      3\n7          Afghanistan  Food supply quantity (tonnes)  2014  tonnes    508\n\n[115 rows x 5 columns]"
     },
     "execution_count": 6,
     "metadata": {},
     "output_type": "execute_result"
    }
   ],
   "source": [
    "util_df_cols = ['Area', 'Element', 'Year', 'Unit', 'Value']\n",
    "Utilisation = df[util_df_cols].copy()\n",
    "Utilisation.sort_values(['Year'], ascending=False)"
   ]
  },
  {
   "cell_type": "code",
   "execution_count": 18,
   "metadata": {},
   "outputs": [],
   "source": [
    "Utilisation = Utilisation.rename(columns={'Area':'area', 'Element':'element',\n",
    "                                'Year':'year', 'Unit':'unit', 'Value':'value'})\n",
    "\n"
   ]
  },
  {
   "cell_type": "code",
   "execution_count": 7,
   "metadata": {},
   "outputs": [
    {
     "data": {
      "text/html": "<div>\n<style scoped>\n    .dataframe tbody tr th:only-of-type {\n        vertical-align: middle;\n    }\n\n    .dataframe tbody tr th {\n        vertical-align: top;\n    }\n\n    .dataframe thead th {\n        text-align: right;\n    }\n</style>\n<table border=\"1\" class=\"dataframe\">\n  <thead>\n    <tr style=\"text-align: right;\">\n      <th></th>\n      <th>company</th>\n      <th>company_location</th>\n      <th>review_date</th>\n      <th>cocoa_percent</th>\n      <th>rating</th>\n    </tr>\n  </thead>\n  <tbody>\n    <tr>\n      <th>0</th>\n      <td>5150</td>\n      <td>U.S.A</td>\n      <td>2019</td>\n      <td>76.0</td>\n      <td>3.75</td>\n    </tr>\n    <tr>\n      <th>1</th>\n      <td>5150</td>\n      <td>U.S.A</td>\n      <td>2019</td>\n      <td>76.0</td>\n      <td>3.50</td>\n    </tr>\n  </tbody>\n</table>\n</div>",
      "text/plain": "  company company_location  review_date  cocoa_percent  rating\n0    5150            U.S.A         2019           76.0    3.75\n1    5150            U.S.A         2019           76.0    3.50"
     },
     "execution_count": 7,
     "metadata": {},
     "output_type": "execute_result"
    }
   ],
   "source": [
    " rating_cols = ['company', 'company_location', 'review_date', 'cocoa_percent', 'rating']\n",
    " rating_cols2 = rating_df[rating_cols].copy()\n",
    " rating_cols2.head(2)"
   ]
  },
  {
   "cell_type": "code",
   "execution_count": 13,
   "metadata": {},
   "outputs": [
    {
     "data": {
      "text/html": "<div>\n<style scoped>\n    .dataframe tbody tr th:only-of-type {\n        vertical-align: middle;\n    }\n\n    .dataframe tbody tr th {\n        vertical-align: top;\n    }\n\n    .dataframe thead th {\n        text-align: right;\n    }\n</style>\n<table border=\"1\" class=\"dataframe\">\n  <thead>\n    <tr style=\"text-align: right;\">\n      <th></th>\n      <th>company</th>\n      <th>area</th>\n      <th>year</th>\n      <th>cocoa_percent</th>\n      <th>rating</th>\n    </tr>\n  </thead>\n  <tbody>\n    <tr>\n      <th>0</th>\n      <td>5150</td>\n      <td>U.S.A</td>\n      <td>2019</td>\n      <td>76.0</td>\n      <td>3.75</td>\n    </tr>\n    <tr>\n      <th>1</th>\n      <td>5150</td>\n      <td>U.S.A</td>\n      <td>2019</td>\n      <td>76.0</td>\n      <td>3.50</td>\n    </tr>\n    <tr>\n      <th>2</th>\n      <td>5150</td>\n      <td>U.S.A</td>\n      <td>2019</td>\n      <td>76.0</td>\n      <td>3.25</td>\n    </tr>\n    <tr>\n      <th>3</th>\n      <td>A. Morin</td>\n      <td>France</td>\n      <td>2012</td>\n      <td>63.0</td>\n      <td>3.75</td>\n    </tr>\n    <tr>\n      <th>4</th>\n      <td>A. Morin</td>\n      <td>France</td>\n      <td>2012</td>\n      <td>70.0</td>\n      <td>3.50</td>\n    </tr>\n    <tr>\n      <th>...</th>\n      <td>...</td>\n      <td>...</td>\n      <td>...</td>\n      <td>...</td>\n      <td>...</td>\n    </tr>\n    <tr>\n      <th>2219</th>\n      <td>Zotter</td>\n      <td>Austria</td>\n      <td>2014</td>\n      <td>80.0</td>\n      <td>2.75</td>\n    </tr>\n    <tr>\n      <th>2220</th>\n      <td>Zotter</td>\n      <td>Austria</td>\n      <td>2017</td>\n      <td>75.0</td>\n      <td>3.75</td>\n    </tr>\n    <tr>\n      <th>2221</th>\n      <td>Zotter</td>\n      <td>Austria</td>\n      <td>2018</td>\n      <td>72.0</td>\n      <td>3.50</td>\n    </tr>\n    <tr>\n      <th>2222</th>\n      <td>Zotter</td>\n      <td>Austria</td>\n      <td>2018</td>\n      <td>70.0</td>\n      <td>3.25</td>\n    </tr>\n    <tr>\n      <th>2223</th>\n      <td>Zotter</td>\n      <td>Austria</td>\n      <td>2018</td>\n      <td>75.0</td>\n      <td>3.00</td>\n    </tr>\n  </tbody>\n</table>\n<p>2224 rows × 5 columns</p>\n</div>",
      "text/plain": "       company     area  year  cocoa_percent  rating\n0         5150    U.S.A  2019           76.0    3.75\n1         5150    U.S.A  2019           76.0    3.50\n2         5150    U.S.A  2019           76.0    3.25\n3     A. Morin   France  2012           63.0    3.75\n4     A. Morin   France  2012           70.0    3.50\n...        ...      ...   ...            ...     ...\n2219    Zotter  Austria  2014           80.0    2.75\n2220    Zotter  Austria  2017           75.0    3.75\n2221    Zotter  Austria  2018           72.0    3.50\n2222    Zotter  Austria  2018           70.0    3.25\n2223    Zotter  Austria  2018           75.0    3.00\n\n[2224 rows x 5 columns]"
     },
     "execution_count": 13,
     "metadata": {},
     "output_type": "execute_result"
    }
   ],
   "source": [
    "Choc_Rating = rating_cols2.rename(columns={'company_location':'area',\n",
    "                                    'review_date':'year',\n",
    "})\n",
    "\n",
    "Choc_Rating"
   ]
  },
  {
   "cell_type": "code",
   "execution_count": 19,
   "metadata": {},
   "outputs": [],
   "source": [
    "from config import username, password\n",
    "rds_connection_string = f\"{username}:{password}@localhost:5432/ETL_Cocoa\"\n",
    "engine = create_engine(f'postgresql://{rds_connection_string}')"
   ]
  },
  {
   "cell_type": "code",
   "execution_count": 20,
   "metadata": {},
   "outputs": [
    {
     "name": "stderr",
     "output_type": "stream",
     "text": [
      "/opt/anaconda3/envs/Class/lib/python3.6/site-packages/ipykernel_launcher.py:1: SADeprecationWarning: The Engine.table_names() method is deprecated and will be removed in a future release.  Please refer to Inspector.get_table_names(). (deprecated since: 1.4)\n",
      "  \"\"\"Entry point for launching an IPython kernel.\n"
     ]
    },
    {
     "data": {
      "text/plain": "['utilisation', 'choc_rating']"
     },
     "execution_count": 20,
     "metadata": {},
     "output_type": "execute_result"
    }
   ],
   "source": [
    "engine.table_names()"
   ]
  },
  {
   "cell_type": "code",
   "execution_count": 21,
   "metadata": {},
   "outputs": [],
   "source": [
    "Utilisation.to_sql(name=\"utilisation\", con=engine, if_exists='append', index=False)"
   ]
  },
  {
   "cell_type": "code",
   "execution_count": 22,
   "metadata": {},
   "outputs": [],
   "source": [
    "Choc_Rating.to_sql(name=\"choc_rating\", con=engine, if_exists='append', index=False)"
   ]
  },
  {
   "cell_type": "code",
   "execution_count": 23,
   "metadata": {},
   "outputs": [
    {
     "data": {
      "text/html": "<div>\n<style scoped>\n    .dataframe tbody tr th:only-of-type {\n        vertical-align: middle;\n    }\n\n    .dataframe tbody tr th {\n        vertical-align: top;\n    }\n\n    .dataframe thead th {\n        text-align: right;\n    }\n</style>\n<table border=\"1\" class=\"dataframe\">\n  <thead>\n    <tr style=\"text-align: right;\">\n      <th></th>\n      <th>area</th>\n      <th>element</th>\n      <th>year</th>\n      <th>unit</th>\n      <th>value</th>\n    </tr>\n  </thead>\n  <tbody>\n    <tr>\n      <th>0</th>\n      <td>Afghanistan</td>\n      <td>Food supply quantity (tonnes)</td>\n      <td>2014</td>\n      <td>tonnes</td>\n      <td>508</td>\n    </tr>\n    <tr>\n      <th>1</th>\n      <td>Afghanistan</td>\n      <td>Food supply quantity (tonnes)</td>\n      <td>2017</td>\n      <td>tonnes</td>\n      <td>1</td>\n    </tr>\n    <tr>\n      <th>2</th>\n      <td>Armenia</td>\n      <td>Food supply quantity (tonnes)</td>\n      <td>2015</td>\n      <td>tonnes</td>\n      <td>886</td>\n    </tr>\n    <tr>\n      <th>3</th>\n      <td>Armenia</td>\n      <td>Food supply quantity (tonnes)</td>\n      <td>2016</td>\n      <td>tonnes</td>\n      <td>812</td>\n    </tr>\n    <tr>\n      <th>4</th>\n      <td>Armenia</td>\n      <td>Food supply quantity (tonnes)</td>\n      <td>2017</td>\n      <td>tonnes</td>\n      <td>898</td>\n    </tr>\n  </tbody>\n</table>\n</div>",
      "text/plain": "          area                        element  year    unit  value\n0  Afghanistan  Food supply quantity (tonnes)  2014  tonnes    508\n1  Afghanistan  Food supply quantity (tonnes)  2017  tonnes      1\n2      Armenia  Food supply quantity (tonnes)  2015  tonnes    886\n3      Armenia  Food supply quantity (tonnes)  2016  tonnes    812\n4      Armenia  Food supply quantity (tonnes)  2017  tonnes    898"
     },
     "execution_count": 23,
     "metadata": {},
     "output_type": "execute_result"
    }
   ],
   "source": [
    "pd.read_sql_query('select * from utilisation', con=engine).head()"
   ]
  },
  {
   "cell_type": "code",
   "execution_count": 24,
   "metadata": {},
   "outputs": [
    {
     "data": {
      "text/html": "<div>\n<style scoped>\n    .dataframe tbody tr th:only-of-type {\n        vertical-align: middle;\n    }\n\n    .dataframe tbody tr th {\n        vertical-align: top;\n    }\n\n    .dataframe thead th {\n        text-align: right;\n    }\n</style>\n<table border=\"1\" class=\"dataframe\">\n  <thead>\n    <tr style=\"text-align: right;\">\n      <th></th>\n      <th>company</th>\n      <th>area</th>\n      <th>year</th>\n      <th>cocoa_percent</th>\n      <th>rating</th>\n    </tr>\n  </thead>\n  <tbody>\n    <tr>\n      <th>0</th>\n      <td>5150</td>\n      <td>U.S.A</td>\n      <td>2019</td>\n      <td>76</td>\n      <td>3.75</td>\n    </tr>\n    <tr>\n      <th>1</th>\n      <td>5150</td>\n      <td>U.S.A</td>\n      <td>2019</td>\n      <td>76</td>\n      <td>3.50</td>\n    </tr>\n    <tr>\n      <th>2</th>\n      <td>5150</td>\n      <td>U.S.A</td>\n      <td>2019</td>\n      <td>76</td>\n      <td>3.25</td>\n    </tr>\n    <tr>\n      <th>3</th>\n      <td>A. Morin</td>\n      <td>France</td>\n      <td>2012</td>\n      <td>63</td>\n      <td>3.75</td>\n    </tr>\n    <tr>\n      <th>4</th>\n      <td>A. Morin</td>\n      <td>France</td>\n      <td>2012</td>\n      <td>70</td>\n      <td>3.50</td>\n    </tr>\n  </tbody>\n</table>\n</div>",
      "text/plain": "    company    area  year  cocoa_percent  rating\n0      5150   U.S.A  2019             76    3.75\n1      5150   U.S.A  2019             76    3.50\n2      5150   U.S.A  2019             76    3.25\n3  A. Morin  France  2012             63    3.75\n4  A. Morin  France  2012             70    3.50"
     },
     "execution_count": 24,
     "metadata": {},
     "output_type": "execute_result"
    }
   ],
   "source": [
    "pd.read_sql_query('select * from choc_rating', con=engine).head()"
   ]
  }
 ],
 "metadata": {
  "kernelspec": {
   "display_name": "Python 3.6.13 64-bit ('Class': conda)",
   "metadata": {
    "interpreter": {
     "hash": "f8dc4aaf8a9462e19a2a5b19dbec340601ec663879adf0fd68cdf19f2542efb8"
    }
   },
   "name": "python3"
  },
  "language_info": {
   "codemirror_mode": {
    "name": "ipython",
    "version": 3
   },
   "file_extension": ".py",
   "mimetype": "text/x-python",
   "name": "python",
   "nbconvert_exporter": "python",
   "pygments_lexer": "ipython3",
   "version": "3.6.13"
  },
  "orig_nbformat": 2
 },
 "nbformat": 4,
 "nbformat_minor": 2
}