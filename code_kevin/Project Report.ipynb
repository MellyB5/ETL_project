{
 "cells": [
  {
   "cell_type": "markdown",
   "source": [
    "<h1>Analysis on Cocoa Daily Prices, Monthly Prices, and Production Indices</h1>"
   ],
   "metadata": {}
  },
  {
   "cell_type": "markdown",
   "source": [
    "<h1>Extraction Process</h1>\r\n",
    "- In this part, the data used have been extracted from icco.rog (production indices) and fao.org (Chocolate bean pricing history)\r\n",
    "- All of these data came in a form of csv\r\n",
    "- Some of the daily prices in the csv contains commas, and as such, a comma separator needs to be noted when utilising read_csc from panda (refer to code notebook attached separately)\r\n",
    "- the analyst has planned to create 7 dataframe which will be uploaded into posgreSQL table covering the following:\r\n",
    "a. cocoa daily prices\r\n",
    "b. cocoa monthly prices\r\n",
    "c. production indices\r\n",
    "d. New York Futures yearly price summary (covering mean, min, max)\r\n",
    "e. New York Futures monthly price summary (covering mean, min, max)\r\n",
    "f. ICCO yearly price summary (covering mean, min, max)\r\n",
    "g. ICCO monthly price summary (covering mean, min, max)"
   ],
   "metadata": {}
  },
  {
   "cell_type": "markdown",
   "source": [
    "<h1>Transformation Process</h1>\r\n",
    "<lr>\r\n",
    "- Panda library has been utilised to assist with data cleaning and transformation.<br>\r\n",
    "- Step 1: <br>\r\n",
    "a. the first data cleaning was performed on cocoa daily prices which was obtained from FAO website. Multiple columns in the csv file has been removed to only include cocoa prices in USD under NY Futures and ICCO.<br>\r\n",
    "b. the dataframe is then updated with year code (extract year from Date column) and month code (extract month/year from Date column) to allow grouping for yearly price and monthly price analysis.<br>\r\n",
    "c. Finally, some column in the dataframe was renamed to make it shorter and easier to load into posgreSQL\r\n",
    "<br>\r\n",
    "- Step 2: <br>\r\n",
    "Once done, another dataframe to summarise monthly and yearly price movement was created from daily price dataframe, separated between New York Futures and ICCO using the year_code and month_code column in the daily price dataframe<br>\r\n",
    "<br>\r\n",
    "- Step 3: <br>\r\n",
    "Minimum cleaning was performed on production_indices dataframe to remove unusable columns"
   ],
   "metadata": {}
  },
  {
   "cell_type": "markdown",
   "source": [
    "<h1>Loading Process</h1>\r\n",
    "- Once the above dataframes have been completed https://app.quickdatabasediagrams.com/#/ were used to design the relevant tables to store the dataframes<br>\r\n",
    "- Serial ID has been utilised for dataframe with no unique entries such as production indices and NYF & ICCO monthly/yearly summary<br>\r\n",
    "- these codes were then ran into posgreSQL<br>\r\n",
    "- Python codes were utilised to upload these files directly into posgreSQL tables<br>\r\n",
    "<br>"
   ],
   "metadata": {}
  },
  {
   "cell_type": "markdown",
   "source": [],
   "metadata": {}
  },
  {
   "cell_type": "markdown",
   "source": [
    "<h1>Reasoning on Tables design</h1>\r\n",
    "\r\n",
    "- Whilst the NYF and ICCO monthly/yearly summary may seem unnecessary as future analyst can perform their own manipulation from cocoa daily prices table, these 4 tables were created to improve convenience of future analysts. The analysts will be able to connect these 4 tables into other tables made against other information that was extracted from FAO (i.e supply utilisation, value agriculture)"
   ],
   "metadata": {}
  }
 ],
 "metadata": {
  "kernelspec": {
   "name": "python3",
   "display_name": "Python 3.6.10 64-bit ('PythonData': conda)"
  },
  "language_info": {
   "codemirror_mode": {
    "name": "ipython",
    "version": 3
   },
   "file_extension": ".py",
   "mimetype": "text/x-python",
   "name": "python",
   "nbconvert_exporter": "python",
   "pygments_lexer": "ipython3",
   "version": "3.6.10"
  },
  "interpreter": {
   "hash": "6b71ca6b95ad0b69e06a4c6e36321db20af4ee56b4afd01d46f3a8600b2487b4"
  }
 },
 "nbformat": 4,
 "nbformat_minor": 2
}