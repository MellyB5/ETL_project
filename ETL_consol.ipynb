{
 "cells": [
  {
   "cell_type": "code",
   "execution_count": 200,
   "source": [
    "import pandas as pd\r\n",
    "from sqlalchemy import create_engine\r\n",
    "from config import username, password"
   ],
   "outputs": [],
   "metadata": {}
  },
  {
   "cell_type": "markdown",
   "source": [
    "### Extract CSVs into DataFrames"
   ],
   "metadata": {}
  },
  {
   "cell_type": "code",
   "execution_count": 201,
   "source": [
    "#load file into panda. make sure to add thousands=',' in read_csv as some of the figures contain commas\r\n",
    "cocoa_daily = \"Resources/Cocoa Prices - Daily Prices 1970-2020.csv\"\r\n",
    "cocoa_monthly = \"Resources/Cocoa Prices - Monthly Average 1970-2020.csv\"\r\n",
    "cocoa_prod_indices=\"Resources/production_indices.csv\"\r\n",
    "cocoa_daily_df = pd.read_csv(cocoa_daily, thousands=',')\r\n",
    "cocoa_monthly_df = pd.read_csv(cocoa_monthly, thousands=',')\r\n",
    "cocoa_prod_indices_df=pd.read_csv(cocoa_prod_indices, thousands=',')\r\n",
    "value_ag_df = pd.read_csv(\"Resources/value_agriculture.csv\")\r\n",
    "trade_df = pd.read_csv(\"Resources/detailed_trade_matrix.csv\")\r\n",
    "util_csv = \"Resources/supply_utilisation.csv\"\r\n",
    "rating_csv = \"Resources/chocolate_rating.csv\"\r\n",
    "filename = 'Resources/crop_livestock_production.csv'"
   ],
   "outputs": [],
   "metadata": {}
  },
  {
   "cell_type": "markdown",
   "source": [
    "<h1>Transform premise DataFrame</h1>"
   ],
   "metadata": {}
  },
  {
   "cell_type": "markdown",
   "source": [
    "<h2>Country By Region Table</h2>"
   ],
   "metadata": {}
  },
  {
   "cell_type": "code",
   "execution_count": 202,
   "source": [
    "url = 'https://meta.wikimedia.org/wiki/List_of_countries_by_regional_classification'\r\n",
    "tables = pd.read_html(url)\r\n",
    "country_region = tables[0]"
   ],
   "outputs": [],
   "metadata": {}
  },
  {
   "cell_type": "code",
   "execution_count": 203,
   "source": [
    "country_region = country_region.drop(\"Global South\", axis = 1)"
   ],
   "outputs": [],
   "metadata": {}
  },
  {
   "cell_type": "code",
   "execution_count": 204,
   "source": [
    "# country_regions.to_csv('country_region.csv', index=False)"
   ],
   "outputs": [],
   "metadata": {}
  },
  {
   "cell_type": "markdown",
   "source": [
    "<h2>Crop Livestock Production Table</h2>"
   ],
   "metadata": {}
  },
  {
   "cell_type": "code",
   "execution_count": 205,
   "source": [
    "area_data = pd.read_csv(filename)\r\n",
    "columns = area_data.columns"
   ],
   "outputs": [],
   "metadata": {}
  },
  {
   "cell_type": "code",
   "execution_count": 206,
   "source": [
    "production = area_data.drop(['Domain Code', 'Domain', 'Area Code', 'Element Code',\r\n",
    "       'Item Code', 'Item', 'Year Code', 'Flag',\r\n",
    "       'Flag Description'], axis = 1)"
   ],
   "outputs": [],
   "metadata": {}
  },
  {
   "cell_type": "code",
   "execution_count": 207,
   "source": [
    "# Split production table into 3 tables, one for each Element\r\n",
    "\r\n",
    "# first table\r\n",
    "area_harvested = production.loc[production['Element'] == \"Area harvested\"]"
   ],
   "outputs": [],
   "metadata": {}
  },
  {
   "cell_type": "code",
   "execution_count": 208,
   "source": [
    "# drop unnecessary column\r\n",
    "area_harvested = area_harvested.drop('Element', axis = 1)"
   ],
   "outputs": [],
   "metadata": {}
  },
  {
   "cell_type": "code",
   "execution_count": 209,
   "source": [
    "# re-label columns\r\n",
    "area_harvested.columns = ['Country', 'Year', 'Area_unit', 'Area_harvested']"
   ],
   "outputs": [],
   "metadata": {}
  },
  {
   "cell_type": "code",
   "execution_count": 210,
   "source": [
    "# repeat for other columns\r\n",
    "prod = production.loc[production['Element'] == \"Production\"]\r\n",
    "prod = prod.drop('Element', axis = 1)\r\n",
    "prod.columns = ['Country', 'Year', 'Production_unit', 'Production']\r\n",
    "\r\n",
    "p_yield = production.loc[production['Element'] == \"Yield\"]\r\n",
    "p_yield = p_yield.drop('Element', axis = 1)\r\n",
    "p_yield.columns = ['Country', 'Year', 'Yield_unit', 'Yield']"
   ],
   "outputs": [],
   "metadata": {}
  },
  {
   "cell_type": "code",
   "execution_count": 211,
   "source": [
    "# combine tables\r\n",
    "df1 = pd.merge(area_harvested, prod, how = \"outer\", on=[\"Country\", \"Year\"])\r\n",
    "country_production = pd.merge(df1, p_yield, how = \"outer\", on=[\"Country\", \"Year\"])"
   ],
   "outputs": [],
   "metadata": {}
  },
  {
   "cell_type": "code",
   "execution_count": 212,
   "source": [
    "# # export dataframe so it can be imported into sql\r\n",
    "# country_production.to_csv(\"country_production.csv\")"
   ],
   "outputs": [],
   "metadata": {}
  },
  {
   "cell_type": "code",
   "execution_count": 213,
   "source": [
    "# merge the two tables to get the region\r\n",
    "production_country_region = pd.merge(country_production, country_region, how = \"inner\", left_on = \"Country\", right_on = \"Country\")"
   ],
   "outputs": [],
   "metadata": {}
  },
  {
   "cell_type": "code",
   "execution_count": 214,
   "source": [
    "# drop the Country column\r\n",
    "production_country_region = production_country_region.drop(\"Country\", axis = 1)"
   ],
   "outputs": [],
   "metadata": {}
  },
  {
   "cell_type": "code",
   "execution_count": 215,
   "source": [
    "production_country_region.columns"
   ],
   "outputs": [
    {
     "output_type": "execute_result",
     "data": {
      "text/plain": [
       "Index(['Year', 'Area_unit', 'Area_harvested', 'Production_unit', 'Production',\n",
       "       'Yield_unit', 'Yield', 'Region'],\n",
       "      dtype='object')"
      ]
     },
     "metadata": {},
     "execution_count": 215
    }
   ],
   "metadata": {}
  },
  {
   "cell_type": "code",
   "execution_count": 216,
   "source": [
    "# some columns need to be summed and others averaged\r\n",
    "calc = {'Area_unit':'first', 'Area_harvested':sum, 'Production_unit':'first',\r\n",
    "       'Production':sum, 'Yield_unit':'first', 'Yield':'mean' }\r\n",
    "production_region = production_country_region.groupby([\"Region\", \"Year\"]).agg(calc)"
   ],
   "outputs": [],
   "metadata": {}
  },
  {
   "cell_type": "code",
   "execution_count": 217,
   "source": [
    "# reset index so table is easy to export and load\r\n",
    "production_region = production_region.reset_index()"
   ],
   "outputs": [],
   "metadata": {}
  },
  {
   "cell_type": "code",
   "execution_count": 218,
   "source": [
    "# # export table\r\n",
    "# production_region.to_csv('region_production.csv', index=False)"
   ],
   "outputs": [],
   "metadata": {}
  },
  {
   "cell_type": "markdown",
   "source": [
    "<h2>Agriculture Value Table</h2>"
   ],
   "metadata": {}
  },
  {
   "cell_type": "code",
   "execution_count": 219,
   "source": [
    "value_columns = [\"Area\", \"Element\", \"Year\", \"Unit\", \"Value\"]\r\n",
    "new_value_ag_df = value_ag_df[value_columns].copy()"
   ],
   "outputs": [],
   "metadata": {}
  },
  {
   "cell_type": "code",
   "execution_count": 220,
   "source": [
    "new_value_ag_df[\"Element\"] = new_value_ag_df[\"Element\"].str[:22]"
   ],
   "outputs": [],
   "metadata": {}
  },
  {
   "cell_type": "code",
   "execution_count": 221,
   "source": [
    "## the below csv has been saved under Mel code folder\r\n",
    "# new_value_ag_df.to_csv(\"Resources.cleaned_value_ag.csv\")"
   ],
   "outputs": [],
   "metadata": {}
  },
  {
   "cell_type": "markdown",
   "source": [
    "<h2><strong>Trade Matrix</strong></h2>"
   ],
   "metadata": {}
  },
  {
   "cell_type": "code",
   "execution_count": 222,
   "source": [
    "trade_columns = [\"Reporter Countries\", \"Partner Countries\", \"Element\", \"Year\", \"Unit\", \"Value\"]\r\n",
    "new_trade_df = trade_df[trade_columns].copy()"
   ],
   "outputs": [],
   "metadata": {}
  },
  {
   "cell_type": "code",
   "execution_count": 223,
   "source": [
    "new_trade_df = new_trade_df.rename(columns={\"Reporter Countries\": \"Reporter_countries\",\r\n",
    "                                     \"Partner Countries\": \"Partner_countries\"})"
   ],
   "outputs": [],
   "metadata": {}
  },
  {
   "cell_type": "code",
   "execution_count": 224,
   "source": [
    "# split into 4 different elements\r\n",
    "import_qty = new_trade_df.loc[new_trade_df[\"Element\"] == \"Import Quantity\"]\r\n",
    "import_value = new_trade_df.loc[new_trade_df[\"Element\"] == \"Import Value\"]\r\n",
    "export_qty = new_trade_df.loc[new_trade_df[\"Element\"] == \"Export Quantity\"]\r\n",
    "export_value = new_trade_df.loc[new_trade_df[\"Element\"] == \"Export Value\"]"
   ],
   "outputs": [],
   "metadata": {}
  },
  {
   "cell_type": "code",
   "execution_count": 225,
   "source": [
    "# drop zero values\r\n",
    "import_qty = import_qty[import_qty[\"Value\"] != 0]\r\n",
    "import_value = import_value[import_value[\"Value\"] != 0]\r\n",
    "export_qty = export_qty[export_qty[\"Value\"] != 0]\r\n",
    "export_value = export_value[export_value[\"Value\"] != 0]"
   ],
   "outputs": [],
   "metadata": {}
  },
  {
   "cell_type": "code",
   "execution_count": 226,
   "source": [
    "# merge tables\r\n",
    "df1 = pd.merge(import_qty, import_value, how=\"outer\", on=[\"Reporter_countries\", \"Partner_countries\", \"Year\"])\r\n",
    "df2 = pd.merge(export_qty, export_value, how=\"outer\", on=[\"Reporter_countries\", \"Partner_countries\", \"Year\"])\r\n",
    "df_3 = pd.merge(df1,df2, how=\"outer\", on=[\"Reporter_countries\", \"Partner_countries\", \"Year\"])"
   ],
   "outputs": [],
   "metadata": {}
  },
  {
   "cell_type": "code",
   "execution_count": 227,
   "source": [
    "df_3.dropna(inplace=True)\r\n",
    "df_3.head()\r\n",
    "# rename columns\r\n",
    "df_3 = df_3.rename(columns={\"Element_x_x\": \"Import_qty\",\r\n",
    "               \"Unit_x_x\": \"Import_qty_unit\",\r\n",
    "                \"Value_x_x\": \"Import_qty_value\",\r\n",
    "                \"Element_y_x\": \"Import_value\",\r\n",
    "                \"Unit_y_x\": \"Import_value_unit\",\r\n",
    "                \"Value_y_x\": \"Import_value_value\",\r\n",
    "                \"Element_x_y\": \"Export_qty\",\r\n",
    "                \"Unit_x_y\": \"Exporty_qty_unit\",\r\n",
    "                \"Value_x_y\": \"Export_qty_value\",\r\n",
    "                \"Element_y_y\": \"Export_value\",\r\n",
    "                \"Unit_y_y\": \"Export_value_unit\",\r\n",
    "                \"Value_y_y\": \"Export_value_value\"})"
   ],
   "outputs": [],
   "metadata": {}
  },
  {
   "cell_type": "code",
   "execution_count": 228,
   "source": [
    "# new_trade_df.to_csv(\"Resources.cleaned_trade_matrix.csv\")"
   ],
   "outputs": [],
   "metadata": {}
  },
  {
   "cell_type": "markdown",
   "source": [
    "<h2><strong>Supply Utilisation & Chocolate Rating</strong><h2>"
   ],
   "metadata": {}
  },
  {
   "cell_type": "code",
   "execution_count": 229,
   "source": [
    "util_df = pd.read_csv(util_csv)\r\n",
    "util_df = util_df[util_df['Value'] !=0]"
   ],
   "outputs": [],
   "metadata": {}
  },
  {
   "cell_type": "code",
   "execution_count": 230,
   "source": [
    "rating_df = pd.read_csv(rating_csv)"
   ],
   "outputs": [],
   "metadata": {}
  },
  {
   "cell_type": "code",
   "execution_count": 231,
   "source": [
    "df = util_df[util_df['Element'] == 'Food supply quantity (tonnes)']"
   ],
   "outputs": [],
   "metadata": {}
  },
  {
   "cell_type": "code",
   "execution_count": 232,
   "source": [
    "util_df_cols = ['Area', 'Element', 'Year', 'Unit', 'Value']\r\n",
    "Utilisation = df[util_df_cols].copy()\r\n",
    "Utilisation.sort_values(['Year'], ascending=False)"
   ],
   "outputs": [
    {
     "output_type": "execute_result",
     "data": {
      "text/html": [
       "<div>\n",
       "<style scoped>\n",
       "    .dataframe tbody tr th:only-of-type {\n",
       "        vertical-align: middle;\n",
       "    }\n",
       "\n",
       "    .dataframe tbody tr th {\n",
       "        vertical-align: top;\n",
       "    }\n",
       "\n",
       "    .dataframe thead th {\n",
       "        text-align: right;\n",
       "    }\n",
       "</style>\n",
       "<table border=\"1\" class=\"dataframe\">\n",
       "  <thead>\n",
       "    <tr style=\"text-align: right;\">\n",
       "      <th></th>\n",
       "      <th>Area</th>\n",
       "      <th>Element</th>\n",
       "      <th>Year</th>\n",
       "      <th>Unit</th>\n",
       "      <th>Value</th>\n",
       "    </tr>\n",
       "  </thead>\n",
       "  <tbody>\n",
       "    <tr>\n",
       "      <th>2615</th>\n",
       "      <td>Kuwait</td>\n",
       "      <td>Food supply quantity (tonnes)</td>\n",
       "      <td>2018</td>\n",
       "      <td>tonnes</td>\n",
       "      <td>2</td>\n",
       "    </tr>\n",
       "    <tr>\n",
       "      <th>771</th>\n",
       "      <td>Cameroon</td>\n",
       "      <td>Food supply quantity (tonnes)</td>\n",
       "      <td>2018</td>\n",
       "      <td>tonnes</td>\n",
       "      <td>9533</td>\n",
       "    </tr>\n",
       "    <tr>\n",
       "      <th>1088</th>\n",
       "      <td>Comoros</td>\n",
       "      <td>Food supply quantity (tonnes)</td>\n",
       "      <td>2018</td>\n",
       "      <td>tonnes</td>\n",
       "      <td>13</td>\n",
       "    </tr>\n",
       "    <tr>\n",
       "      <th>1407</th>\n",
       "      <td>Dominica</td>\n",
       "      <td>Food supply quantity (tonnes)</td>\n",
       "      <td>2018</td>\n",
       "      <td>tonnes</td>\n",
       "      <td>50</td>\n",
       "    </tr>\n",
       "    <tr>\n",
       "      <th>1979</th>\n",
       "      <td>Grenada</td>\n",
       "      <td>Food supply quantity (tonnes)</td>\n",
       "      <td>2018</td>\n",
       "      <td>tonnes</td>\n",
       "      <td>200</td>\n",
       "    </tr>\n",
       "    <tr>\n",
       "      <th>...</th>\n",
       "      <td>...</td>\n",
       "      <td>...</td>\n",
       "      <td>...</td>\n",
       "      <td>...</td>\n",
       "      <td>...</td>\n",
       "    </tr>\n",
       "    <tr>\n",
       "      <th>2373</th>\n",
       "      <td>Ireland</td>\n",
       "      <td>Food supply quantity (tonnes)</td>\n",
       "      <td>2014</td>\n",
       "      <td>tonnes</td>\n",
       "      <td>4</td>\n",
       "    </tr>\n",
       "    <tr>\n",
       "      <th>3999</th>\n",
       "      <td>Saint Lucia</td>\n",
       "      <td>Food supply quantity (tonnes)</td>\n",
       "      <td>2014</td>\n",
       "      <td>tonnes</td>\n",
       "      <td>40</td>\n",
       "    </tr>\n",
       "    <tr>\n",
       "      <th>3623</th>\n",
       "      <td>Papua New Guinea</td>\n",
       "      <td>Food supply quantity (tonnes)</td>\n",
       "      <td>2014</td>\n",
       "      <td>tonnes</td>\n",
       "      <td>4001</td>\n",
       "    </tr>\n",
       "    <tr>\n",
       "      <th>3393</th>\n",
       "      <td>Niger</td>\n",
       "      <td>Food supply quantity (tonnes)</td>\n",
       "      <td>2014</td>\n",
       "      <td>tonnes</td>\n",
       "      <td>3</td>\n",
       "    </tr>\n",
       "    <tr>\n",
       "      <th>7</th>\n",
       "      <td>Afghanistan</td>\n",
       "      <td>Food supply quantity (tonnes)</td>\n",
       "      <td>2014</td>\n",
       "      <td>tonnes</td>\n",
       "      <td>508</td>\n",
       "    </tr>\n",
       "  </tbody>\n",
       "</table>\n",
       "<p>115 rows × 5 columns</p>\n",
       "</div>"
      ],
      "text/plain": [
       "                  Area                        Element  Year    Unit  Value\n",
       "2615            Kuwait  Food supply quantity (tonnes)  2018  tonnes      2\n",
       "771           Cameroon  Food supply quantity (tonnes)  2018  tonnes   9533\n",
       "1088           Comoros  Food supply quantity (tonnes)  2018  tonnes     13\n",
       "1407          Dominica  Food supply quantity (tonnes)  2018  tonnes     50\n",
       "1979           Grenada  Food supply quantity (tonnes)  2018  tonnes    200\n",
       "...                ...                            ...   ...     ...    ...\n",
       "2373           Ireland  Food supply quantity (tonnes)  2014  tonnes      4\n",
       "3999       Saint Lucia  Food supply quantity (tonnes)  2014  tonnes     40\n",
       "3623  Papua New Guinea  Food supply quantity (tonnes)  2014  tonnes   4001\n",
       "3393             Niger  Food supply quantity (tonnes)  2014  tonnes      3\n",
       "7          Afghanistan  Food supply quantity (tonnes)  2014  tonnes    508\n",
       "\n",
       "[115 rows x 5 columns]"
      ]
     },
     "metadata": {},
     "execution_count": 232
    }
   ],
   "metadata": {}
  },
  {
   "cell_type": "code",
   "execution_count": 233,
   "source": [
    "Utilisation = Utilisation.rename(columns={'Area':'area', 'Element':'element',\r\n",
    "                                'Year':'year', 'Unit':'unit', 'Value':'value'})"
   ],
   "outputs": [],
   "metadata": {}
  },
  {
   "cell_type": "code",
   "execution_count": 234,
   "source": [
    " rating_cols = ['company', 'company_location', 'review_date', 'cocoa_percent', 'rating']\r\n",
    " rating_cols2 = rating_df[rating_cols].copy()"
   ],
   "outputs": [],
   "metadata": {}
  },
  {
   "cell_type": "code",
   "execution_count": 235,
   "source": [
    "Choc_Rating = rating_cols2.rename(columns={'company_location':'area',\r\n",
    "                                    'review_date':'year',\r\n",
    "})"
   ],
   "outputs": [],
   "metadata": {}
  },
  {
   "cell_type": "markdown",
   "source": [
    "<h2><strong>Cocoa Daily Price</strong></h2>\r\n",
    "- clean up cocoa_daily_df"
   ],
   "metadata": {}
  },
  {
   "cell_type": "code",
   "execution_count": 236,
   "source": [
    "# filter out cocoa_daily_df to only include prices in USD/tonnes\r\n",
    "cocoa_daily_df=cocoa_daily_df[['Date','New York futures (US$/tonne)', 'ICCO daily price (US$/tonne)']]"
   ],
   "outputs": [],
   "metadata": {}
  },
  {
   "cell_type": "code",
   "execution_count": 237,
   "source": [
    "#add 'year' and 'month/year' column in cocoa_daily_df \r\n",
    "cocoa_daily_df['year_code']=cocoa_daily_df['Date'].str[-4:]\r\n",
    "cocoa_daily_df['month_code']=cocoa_daily_df['Date'].str[-7:]\r\n",
    "\r\n",
    "cocoa_daily_df=cocoa_daily_df.rename(columns={'New York futures (US$/tonne)':\"New_York_futures_USD/tonne\", 'ICCO daily price (US$/tonne)':\"ICCO_USD/tonne\"})\r\n",
    "cocoa_daily_df.head()\r\n",
    "\r\n",
    "# # the above will allow analysts to create another table to summarise cocoa prices on yearly & monthly basis (i.e average price, max, and min for each year)\r\n",
    "# sample code\r\n",
    "# cocoa_price_yearly_summary=round(cocoa_daily_df.groupby('year').agg({'New York futures (US$/tonne)' : ['mean', 'min', 'max'], 'ICCO daily price (US$/tonne)' : ['mean', 'min', 'max']}),2)\r\n",
    "# cocoa_price_monthly_summary=round(cocoa_daily_df.groupby('month/year').agg({'New York futures (US$/tonne)' : ['mean', 'min', 'max'], 'ICCO daily price (US$/tonne)' : ['mean', 'min', 'max']}),2)\r\n"
   ],
   "outputs": [
    {
     "output_type": "execute_result",
     "data": {
      "text/html": [
       "<div>\n",
       "<style scoped>\n",
       "    .dataframe tbody tr th:only-of-type {\n",
       "        vertical-align: middle;\n",
       "    }\n",
       "\n",
       "    .dataframe tbody tr th {\n",
       "        vertical-align: top;\n",
       "    }\n",
       "\n",
       "    .dataframe thead th {\n",
       "        text-align: right;\n",
       "    }\n",
       "</style>\n",
       "<table border=\"1\" class=\"dataframe\">\n",
       "  <thead>\n",
       "    <tr style=\"text-align: right;\">\n",
       "      <th></th>\n",
       "      <th>Date</th>\n",
       "      <th>New_York_futures_USD/tonne</th>\n",
       "      <th>ICCO_USD/tonne</th>\n",
       "      <th>year_code</th>\n",
       "      <th>month_code</th>\n",
       "    </tr>\n",
       "  </thead>\n",
       "  <tbody>\n",
       "    <tr>\n",
       "      <th>0</th>\n",
       "      <td>31/12/2020</td>\n",
       "      <td>2544.33</td>\n",
       "      <td>2424.35</td>\n",
       "      <td>2020</td>\n",
       "      <td>12/2020</td>\n",
       "    </tr>\n",
       "    <tr>\n",
       "      <th>1</th>\n",
       "      <td>30/12/2020</td>\n",
       "      <td>2534.00</td>\n",
       "      <td>2412.99</td>\n",
       "      <td>2020</td>\n",
       "      <td>12/2020</td>\n",
       "    </tr>\n",
       "    <tr>\n",
       "      <th>2</th>\n",
       "      <td>29/12/2020</td>\n",
       "      <td>2459.33</td>\n",
       "      <td>2334.66</td>\n",
       "      <td>2020</td>\n",
       "      <td>12/2020</td>\n",
       "    </tr>\n",
       "    <tr>\n",
       "      <th>3</th>\n",
       "      <td>28/12/2020</td>\n",
       "      <td>2502.00</td>\n",
       "      <td>2355.17</td>\n",
       "      <td>2020</td>\n",
       "      <td>12/2020</td>\n",
       "    </tr>\n",
       "    <tr>\n",
       "      <th>4</th>\n",
       "      <td>24/12/2020</td>\n",
       "      <td>2537.33</td>\n",
       "      <td>2385.85</td>\n",
       "      <td>2020</td>\n",
       "      <td>12/2020</td>\n",
       "    </tr>\n",
       "  </tbody>\n",
       "</table>\n",
       "</div>"
      ],
      "text/plain": [
       "         Date  New_York_futures_USD/tonne  ICCO_USD/tonne year_code month_code\n",
       "0  31/12/2020                     2544.33         2424.35      2020    12/2020\n",
       "1  30/12/2020                     2534.00         2412.99      2020    12/2020\n",
       "2  29/12/2020                     2459.33         2334.66      2020    12/2020\n",
       "3  28/12/2020                     2502.00         2355.17      2020    12/2020\n",
       "4  24/12/2020                     2537.33         2385.85      2020    12/2020"
      ]
     },
     "metadata": {},
     "execution_count": 237
    }
   ],
   "metadata": {}
  },
  {
   "cell_type": "code",
   "execution_count": 238,
   "source": [
    "#create a table to show yearly average price, min price, & max price recorded in New York Futures\r\n",
    "cocoa_NYF=cocoa_daily_df.copy()\r\n",
    "del cocoa_NYF['ICCO_USD/tonne']\r\n",
    "cocoa_NYF_yearly= round(cocoa_NYF.groupby('year_code').agg(['mean', 'min', 'max']),2)\r\n",
    "cocoa_NYF_yearly.columns = cocoa_NYF_yearly.columns.droplevel()\r\n",
    "\r\n",
    "cocoa_NYF_yearly.head()"
   ],
   "outputs": [
    {
     "output_type": "execute_result",
     "data": {
      "text/html": [
       "<div>\n",
       "<style scoped>\n",
       "    .dataframe tbody tr th:only-of-type {\n",
       "        vertical-align: middle;\n",
       "    }\n",
       "\n",
       "    .dataframe tbody tr th {\n",
       "        vertical-align: top;\n",
       "    }\n",
       "\n",
       "    .dataframe thead th {\n",
       "        text-align: right;\n",
       "    }\n",
       "</style>\n",
       "<table border=\"1\" class=\"dataframe\">\n",
       "  <thead>\n",
       "    <tr style=\"text-align: right;\">\n",
       "      <th></th>\n",
       "      <th>mean</th>\n",
       "      <th>min</th>\n",
       "      <th>max</th>\n",
       "    </tr>\n",
       "    <tr>\n",
       "      <th>year_code</th>\n",
       "      <th></th>\n",
       "      <th></th>\n",
       "      <th></th>\n",
       "    </tr>\n",
       "  </thead>\n",
       "  <tbody>\n",
       "    <tr>\n",
       "      <th>1994</th>\n",
       "      <td>1324.02</td>\n",
       "      <td>1237.67</td>\n",
       "      <td>1391.33</td>\n",
       "    </tr>\n",
       "    <tr>\n",
       "      <th>1995</th>\n",
       "      <td>1350.05</td>\n",
       "      <td>1252.00</td>\n",
       "      <td>1474.67</td>\n",
       "    </tr>\n",
       "    <tr>\n",
       "      <th>1996</th>\n",
       "      <td>1370.41</td>\n",
       "      <td>1242.67</td>\n",
       "      <td>1466.67</td>\n",
       "    </tr>\n",
       "    <tr>\n",
       "      <th>1997</th>\n",
       "      <td>1544.44</td>\n",
       "      <td>1252.67</td>\n",
       "      <td>1783.33</td>\n",
       "    </tr>\n",
       "    <tr>\n",
       "      <th>1998</th>\n",
       "      <td>1601.63</td>\n",
       "      <td>1400.67</td>\n",
       "      <td>1762.33</td>\n",
       "    </tr>\n",
       "  </tbody>\n",
       "</table>\n",
       "</div>"
      ],
      "text/plain": [
       "              mean      min      max\n",
       "year_code                           \n",
       "1994       1324.02  1237.67  1391.33\n",
       "1995       1350.05  1252.00  1474.67\n",
       "1996       1370.41  1242.67  1466.67\n",
       "1997       1544.44  1252.67  1783.33\n",
       "1998       1601.63  1400.67  1762.33"
      ]
     },
     "metadata": {},
     "execution_count": 238
    }
   ],
   "metadata": {}
  },
  {
   "cell_type": "code",
   "execution_count": 239,
   "source": [
    "#create a table to show yearly average price, min price, & max price recorded in ICCO\r\n",
    "cocoa_ICCO=cocoa_daily_df.copy()\r\n",
    "del cocoa_ICCO['New_York_futures_USD/tonne']\r\n",
    "cocoa_ICCO_yearly= round(cocoa_ICCO.groupby('year_code').agg(['mean', 'min', 'max']),2)\r\n",
    "cocoa_ICCO_yearly.columns = cocoa_ICCO_yearly.columns.droplevel()\r\n",
    "\r\n",
    "cocoa_ICCO_yearly.head()"
   ],
   "outputs": [
    {
     "output_type": "execute_result",
     "data": {
      "text/html": [
       "<div>\n",
       "<style scoped>\n",
       "    .dataframe tbody tr th:only-of-type {\n",
       "        vertical-align: middle;\n",
       "    }\n",
       "\n",
       "    .dataframe tbody tr th {\n",
       "        vertical-align: top;\n",
       "    }\n",
       "\n",
       "    .dataframe thead th {\n",
       "        text-align: right;\n",
       "    }\n",
       "</style>\n",
       "<table border=\"1\" class=\"dataframe\">\n",
       "  <thead>\n",
       "    <tr style=\"text-align: right;\">\n",
       "      <th></th>\n",
       "      <th>mean</th>\n",
       "      <th>min</th>\n",
       "      <th>max</th>\n",
       "    </tr>\n",
       "    <tr>\n",
       "      <th>year_code</th>\n",
       "      <th></th>\n",
       "      <th></th>\n",
       "      <th></th>\n",
       "    </tr>\n",
       "  </thead>\n",
       "  <tbody>\n",
       "    <tr>\n",
       "      <th>1994</th>\n",
       "      <td>1428.25</td>\n",
       "      <td>1346.41</td>\n",
       "      <td>1497.14</td>\n",
       "    </tr>\n",
       "    <tr>\n",
       "      <th>1995</th>\n",
       "      <td>1433.32</td>\n",
       "      <td>1335.09</td>\n",
       "      <td>1568.62</td>\n",
       "    </tr>\n",
       "    <tr>\n",
       "      <th>1996</th>\n",
       "      <td>1455.81</td>\n",
       "      <td>1313.15</td>\n",
       "      <td>1572.89</td>\n",
       "    </tr>\n",
       "    <tr>\n",
       "      <th>1997</th>\n",
       "      <td>1620.86</td>\n",
       "      <td>1322.59</td>\n",
       "      <td>1834.68</td>\n",
       "    </tr>\n",
       "    <tr>\n",
       "      <th>1998</th>\n",
       "      <td>1675.51</td>\n",
       "      <td>1462.83</td>\n",
       "      <td>1830.04</td>\n",
       "    </tr>\n",
       "  </tbody>\n",
       "</table>\n",
       "</div>"
      ],
      "text/plain": [
       "              mean      min      max\n",
       "year_code                           \n",
       "1994       1428.25  1346.41  1497.14\n",
       "1995       1433.32  1335.09  1568.62\n",
       "1996       1455.81  1313.15  1572.89\n",
       "1997       1620.86  1322.59  1834.68\n",
       "1998       1675.51  1462.83  1830.04"
      ]
     },
     "metadata": {},
     "execution_count": 239
    }
   ],
   "metadata": {}
  },
  {
   "cell_type": "code",
   "execution_count": 240,
   "source": [
    "#create a table to show monthly average price, min price, & max price recorded in New York Futures\r\n",
    "cocoa_NYF_monthly= round(cocoa_NYF.groupby('month_code').agg(['mean', 'min', 'max']),2)\r\n",
    "cocoa_NYF_monthly.columns = cocoa_NYF_monthly.columns.droplevel()\r\n",
    "\r\n",
    "cocoa_NYF_monthly.head()"
   ],
   "outputs": [
    {
     "output_type": "execute_result",
     "data": {
      "text/html": [
       "<div>\n",
       "<style scoped>\n",
       "    .dataframe tbody tr th:only-of-type {\n",
       "        vertical-align: middle;\n",
       "    }\n",
       "\n",
       "    .dataframe tbody tr th {\n",
       "        vertical-align: top;\n",
       "    }\n",
       "\n",
       "    .dataframe thead th {\n",
       "        text-align: right;\n",
       "    }\n",
       "</style>\n",
       "<table border=\"1\" class=\"dataframe\">\n",
       "  <thead>\n",
       "    <tr style=\"text-align: right;\">\n",
       "      <th></th>\n",
       "      <th>mean</th>\n",
       "      <th>min</th>\n",
       "      <th>max</th>\n",
       "    </tr>\n",
       "    <tr>\n",
       "      <th>month_code</th>\n",
       "      <th></th>\n",
       "      <th></th>\n",
       "      <th></th>\n",
       "    </tr>\n",
       "  </thead>\n",
       "  <tbody>\n",
       "    <tr>\n",
       "      <th>01/1995</th>\n",
       "      <td>1368.54</td>\n",
       "      <td>1305.33</td>\n",
       "      <td>1408.67</td>\n",
       "    </tr>\n",
       "    <tr>\n",
       "      <th>01/1996</th>\n",
       "      <td>1287.65</td>\n",
       "      <td>1265.33</td>\n",
       "      <td>1310.33</td>\n",
       "    </tr>\n",
       "    <tr>\n",
       "      <th>01/1997</th>\n",
       "      <td>1361.29</td>\n",
       "      <td>1293.00</td>\n",
       "      <td>1415.67</td>\n",
       "    </tr>\n",
       "    <tr>\n",
       "      <th>01/1998</th>\n",
       "      <td>1612.79</td>\n",
       "      <td>1570.33</td>\n",
       "      <td>1667.00</td>\n",
       "    </tr>\n",
       "    <tr>\n",
       "      <th>01/1999</th>\n",
       "      <td>1383.05</td>\n",
       "      <td>1337.00</td>\n",
       "      <td>1436.67</td>\n",
       "    </tr>\n",
       "  </tbody>\n",
       "</table>\n",
       "</div>"
      ],
      "text/plain": [
       "               mean      min      max\n",
       "month_code                           \n",
       "01/1995     1368.54  1305.33  1408.67\n",
       "01/1996     1287.65  1265.33  1310.33\n",
       "01/1997     1361.29  1293.00  1415.67\n",
       "01/1998     1612.79  1570.33  1667.00\n",
       "01/1999     1383.05  1337.00  1436.67"
      ]
     },
     "metadata": {},
     "execution_count": 240
    }
   ],
   "metadata": {}
  },
  {
   "cell_type": "code",
   "execution_count": 241,
   "source": [
    "#create a table to show monthly average price, min price, & max price recorded in ICCO\r\n",
    "cocoa_ICCO_monthly= round(cocoa_ICCO.groupby('month_code').agg(['mean', 'min', 'max']),2)\r\n",
    "cocoa_ICCO_monthly.columns = cocoa_ICCO_monthly.columns.droplevel()\r\n",
    "\r\n",
    "cocoa_ICCO_monthly.head()"
   ],
   "outputs": [
    {
     "output_type": "execute_result",
     "data": {
      "text/html": [
       "<div>\n",
       "<style scoped>\n",
       "    .dataframe tbody tr th:only-of-type {\n",
       "        vertical-align: middle;\n",
       "    }\n",
       "\n",
       "    .dataframe tbody tr th {\n",
       "        vertical-align: top;\n",
       "    }\n",
       "\n",
       "    .dataframe thead th {\n",
       "        text-align: right;\n",
       "    }\n",
       "</style>\n",
       "<table border=\"1\" class=\"dataframe\">\n",
       "  <thead>\n",
       "    <tr style=\"text-align: right;\">\n",
       "      <th></th>\n",
       "      <th>mean</th>\n",
       "      <th>min</th>\n",
       "      <th>max</th>\n",
       "    </tr>\n",
       "    <tr>\n",
       "      <th>month_code</th>\n",
       "      <th></th>\n",
       "      <th></th>\n",
       "      <th></th>\n",
       "    </tr>\n",
       "  </thead>\n",
       "  <tbody>\n",
       "    <tr>\n",
       "      <th>01/1995</th>\n",
       "      <td>1468.82</td>\n",
       "      <td>1411.14</td>\n",
       "      <td>1504.70</td>\n",
       "    </tr>\n",
       "    <tr>\n",
       "      <th>01/1996</th>\n",
       "      <td>1349.54</td>\n",
       "      <td>1331.62</td>\n",
       "      <td>1370.44</td>\n",
       "    </tr>\n",
       "    <tr>\n",
       "      <th>01/1997</th>\n",
       "      <td>1428.48</td>\n",
       "      <td>1365.20</td>\n",
       "      <td>1481.16</td>\n",
       "    </tr>\n",
       "    <tr>\n",
       "      <th>01/1998</th>\n",
       "      <td>1668.15</td>\n",
       "      <td>1624.06</td>\n",
       "      <td>1722.74</td>\n",
       "    </tr>\n",
       "    <tr>\n",
       "      <th>01/1999</th>\n",
       "      <td>1455.23</td>\n",
       "      <td>1417.87</td>\n",
       "      <td>1501.53</td>\n",
       "    </tr>\n",
       "  </tbody>\n",
       "</table>\n",
       "</div>"
      ],
      "text/plain": [
       "               mean      min      max\n",
       "month_code                           \n",
       "01/1995     1468.82  1411.14  1504.70\n",
       "01/1996     1349.54  1331.62  1370.44\n",
       "01/1997     1428.48  1365.20  1481.16\n",
       "01/1998     1668.15  1624.06  1722.74\n",
       "01/1999     1455.23  1417.87  1501.53"
      ]
     },
     "metadata": {},
     "execution_count": 241
    }
   ],
   "metadata": {}
  },
  {
   "cell_type": "markdown",
   "source": [
    "<strong> Production Indices </strong>\r\n",
    "- based on http://www.fao.org/waicent/faostat/agricult/indices-e.htm, The FAO indices of agricultural production show the relative level of the aggregate volume of agricultural production for each year in comparison with the base period 1999-2001. They are based on the sum of price-weighted quantities of different agricultural commodities produced after deductions of quantities used as seed and feed weighted in a similar manner. The resulting aggregate represents, therefore, disposable production for any use except as seed and feed.\r\n",
    "- clean up Production Indices table"
   ],
   "metadata": {}
  },
  {
   "cell_type": "code",
   "execution_count": 242,
   "source": [
    "prod_indices_df= cocoa_prod_indices_df[['Domain', 'Area Code', 'Area', 'Element', 'Item', 'Year', 'Unit', 'Value']]\r\n",
    "prod_indices_df=prod_indices_df.rename(columns={'Area Code': 'area_code'})\r\n",
    "prod_indices_df.head()"
   ],
   "outputs": [
    {
     "output_type": "execute_result",
     "data": {
      "text/html": [
       "<div>\n",
       "<style scoped>\n",
       "    .dataframe tbody tr th:only-of-type {\n",
       "        vertical-align: middle;\n",
       "    }\n",
       "\n",
       "    .dataframe tbody tr th {\n",
       "        vertical-align: top;\n",
       "    }\n",
       "\n",
       "    .dataframe thead th {\n",
       "        text-align: right;\n",
       "    }\n",
       "</style>\n",
       "<table border=\"1\" class=\"dataframe\">\n",
       "  <thead>\n",
       "    <tr style=\"text-align: right;\">\n",
       "      <th></th>\n",
       "      <th>Domain</th>\n",
       "      <th>area_code</th>\n",
       "      <th>Area</th>\n",
       "      <th>Element</th>\n",
       "      <th>Item</th>\n",
       "      <th>Year</th>\n",
       "      <th>Unit</th>\n",
       "      <th>Value</th>\n",
       "    </tr>\n",
       "  </thead>\n",
       "  <tbody>\n",
       "    <tr>\n",
       "      <th>0</th>\n",
       "      <td>Production Indices</td>\n",
       "      <td>7</td>\n",
       "      <td>Angola</td>\n",
       "      <td>Gross Production Index Number (2014-2016 = 100)</td>\n",
       "      <td>Cocoa, beans</td>\n",
       "      <td>1961</td>\n",
       "      <td>index</td>\n",
       "      <td>92.74</td>\n",
       "    </tr>\n",
       "    <tr>\n",
       "      <th>1</th>\n",
       "      <td>Production Indices</td>\n",
       "      <td>7</td>\n",
       "      <td>Angola</td>\n",
       "      <td>Gross Production Index Number (2014-2016 = 100)</td>\n",
       "      <td>Cocoa, beans</td>\n",
       "      <td>1962</td>\n",
       "      <td>index</td>\n",
       "      <td>92.74</td>\n",
       "    </tr>\n",
       "    <tr>\n",
       "      <th>2</th>\n",
       "      <td>Production Indices</td>\n",
       "      <td>7</td>\n",
       "      <td>Angola</td>\n",
       "      <td>Gross Production Index Number (2014-2016 = 100)</td>\n",
       "      <td>Cocoa, beans</td>\n",
       "      <td>1963</td>\n",
       "      <td>index</td>\n",
       "      <td>69.55</td>\n",
       "    </tr>\n",
       "    <tr>\n",
       "      <th>3</th>\n",
       "      <td>Production Indices</td>\n",
       "      <td>7</td>\n",
       "      <td>Angola</td>\n",
       "      <td>Gross Production Index Number (2014-2016 = 100)</td>\n",
       "      <td>Cocoa, beans</td>\n",
       "      <td>1964</td>\n",
       "      <td>index</td>\n",
       "      <td>69.55</td>\n",
       "    </tr>\n",
       "    <tr>\n",
       "      <th>4</th>\n",
       "      <td>Production Indices</td>\n",
       "      <td>7</td>\n",
       "      <td>Angola</td>\n",
       "      <td>Gross Production Index Number (2014-2016 = 100)</td>\n",
       "      <td>Cocoa, beans</td>\n",
       "      <td>1965</td>\n",
       "      <td>index</td>\n",
       "      <td>92.74</td>\n",
       "    </tr>\n",
       "  </tbody>\n",
       "</table>\n",
       "</div>"
      ],
      "text/plain": [
       "               Domain  area_code    Area  \\\n",
       "0  Production Indices          7  Angola   \n",
       "1  Production Indices          7  Angola   \n",
       "2  Production Indices          7  Angola   \n",
       "3  Production Indices          7  Angola   \n",
       "4  Production Indices          7  Angola   \n",
       "\n",
       "                                           Element          Item  Year   Unit  \\\n",
       "0  Gross Production Index Number (2014-2016 = 100)  Cocoa, beans  1961  index   \n",
       "1  Gross Production Index Number (2014-2016 = 100)  Cocoa, beans  1962  index   \n",
       "2  Gross Production Index Number (2014-2016 = 100)  Cocoa, beans  1963  index   \n",
       "3  Gross Production Index Number (2014-2016 = 100)  Cocoa, beans  1964  index   \n",
       "4  Gross Production Index Number (2014-2016 = 100)  Cocoa, beans  1965  index   \n",
       "\n",
       "   Value  \n",
       "0  92.74  \n",
       "1  92.74  \n",
       "2  69.55  \n",
       "3  69.55  \n",
       "4  92.74  "
      ]
     },
     "metadata": {},
     "execution_count": 242
    }
   ],
   "metadata": {}
  },
  {
   "cell_type": "markdown",
   "source": [
    "<h1>Create database connection</h1>"
   ],
   "metadata": {}
  },
  {
   "cell_type": "markdown",
   "source": [
    "List of Dataframe to be imported:\r\n",
    "- cocoa_daily_df\r\n",
    "- cocoa_monthly_df\r\n",
    "- cocoa_NYF_yearly\r\n",
    "- cocoa_ICCO_yearly\r\n",
    "- cocoa_NYF_monthly\r\n",
    "- cocoa_ICCO_monthly\r\n",
    "- prod_indices_df"
   ],
   "metadata": {}
  },
  {
   "cell_type": "code",
   "execution_count": 243,
   "source": [
    "connection_string = f\"{username}:{password}@localhost:5432/ETL_project\"\r\n",
    "engine = create_engine(f'postgresql://{connection_string}')"
   ],
   "outputs": [],
   "metadata": {}
  },
  {
   "cell_type": "code",
   "execution_count": 244,
   "source": [
    "# Confirm tables\r\n",
    "engine.table_names()"
   ],
   "outputs": [
    {
     "output_type": "execute_result",
     "data": {
      "text/plain": [
       "['detailed_trade_matrix',\n",
       " 'value_agriculture',\n",
       " 'cocoa_daily_prices',\n",
       " 'cocoa_monthly_prices',\n",
       " 'NYF_yearly_summary',\n",
       " 'ICCO_yearly_summary',\n",
       " 'NYF_monthly_summary',\n",
       " 'ICCO_monthly_summary',\n",
       " 'production_indices',\n",
       " 'country_region',\n",
       " 'utilisation',\n",
       " 'choc_rating']"
      ]
     },
     "metadata": {},
     "execution_count": 244
    }
   ],
   "metadata": {}
  },
  {
   "cell_type": "markdown",
   "source": [
    "<h1>Load DataFrames into database</h1>"
   ],
   "metadata": {}
  },
  {
   "cell_type": "code",
   "execution_count": 253,
   "source": [
    "cocoa_daily_df.to_sql(name='cocoa_daily_prices', con=engine, if_exists='append', index=False)"
   ],
   "outputs": [],
   "metadata": {}
  },
  {
   "cell_type": "code",
   "execution_count": 254,
   "source": [
    "cocoa_monthly_df.to_sql(name='cocoa_monthly_prices', con=engine, if_exists='append', index=False)"
   ],
   "outputs": [],
   "metadata": {}
  },
  {
   "cell_type": "code",
   "execution_count": 256,
   "source": [
    "cocoa_NYF_yearly.to_sql(name='NYF_yearly_summary', con=engine, if_exists='append', index=True)"
   ],
   "outputs": [],
   "metadata": {}
  },
  {
   "cell_type": "code",
   "execution_count": 257,
   "source": [
    "cocoa_NYF_monthly.to_sql(name='NYF_monthly_summary', con=engine, if_exists='append', index=True)"
   ],
   "outputs": [],
   "metadata": {}
  },
  {
   "cell_type": "code",
   "execution_count": 259,
   "source": [
    "cocoa_ICCO_yearly.to_sql(name='ICCO_yearly_summary', con=engine, if_exists='append', index=True)"
   ],
   "outputs": [],
   "metadata": {}
  },
  {
   "cell_type": "code",
   "execution_count": 260,
   "source": [
    "cocoa_ICCO_monthly.to_sql(name='ICCO_monthly_summary', con=engine, if_exists='append', index=True)"
   ],
   "outputs": [],
   "metadata": {}
  },
  {
   "cell_type": "code",
   "execution_count": 261,
   "source": [
    "prod_indices_df.to_sql(name='production_indices', con=engine, if_exists='append', index=False)"
   ],
   "outputs": [],
   "metadata": {}
  },
  {
   "cell_type": "code",
   "execution_count": 262,
   "source": [
    "country_regions.to_sql(name=\"country_region\", con=engine, if_exists='append', index=False)"
   ],
   "outputs": [],
   "metadata": {}
  },
  {
   "cell_type": "code",
   "execution_count": 263,
   "source": [
    "new_value_ag_df.to_sql(name='value_agriculture', con=engine, if_exists='append', index=False)"
   ],
   "outputs": [],
   "metadata": {}
  },
  {
   "cell_type": "code",
   "execution_count": 264,
   "source": [
    "new_trade_df.to_sql(name='detailed_trade_matrix', con=engine, if_exists='append', index=False)"
   ],
   "outputs": [],
   "metadata": {}
  },
  {
   "cell_type": "code",
   "execution_count": 265,
   "source": [
    "Utilisation.to_sql(name=\"utilisation\", con=engine, if_exists='append', index=False)"
   ],
   "outputs": [],
   "metadata": {}
  },
  {
   "cell_type": "code",
   "execution_count": 266,
   "source": [
    "Choc_Rating.to_sql(name=\"choc_rating\", con=engine, if_exists='append', index=False)"
   ],
   "outputs": [],
   "metadata": {}
  },
  {
   "cell_type": "code",
   "execution_count": 268,
   "source": [
    "country_production.to_sql(name=\"country_production\", con=engine, if_exists='append', index=False)"
   ],
   "outputs": [],
   "metadata": {}
  }
 ],
 "metadata": {
  "kernelspec": {
   "name": "python3",
   "display_name": "Python 3.6.10 64-bit ('PythonData': conda)"
  },
  "language_info": {
   "codemirror_mode": {
    "name": "ipython",
    "version": 3
   },
   "file_extension": ".py",
   "mimetype": "text/x-python",
   "name": "python",
   "nbconvert_exporter": "python",
   "pygments_lexer": "ipython3",
   "version": "3.6.10"
  },
  "interpreter": {
   "hash": "6b71ca6b95ad0b69e06a4c6e36321db20af4ee56b4afd01d46f3a8600b2487b4"
  }
 },
 "nbformat": 4,
 "nbformat_minor": 2
}